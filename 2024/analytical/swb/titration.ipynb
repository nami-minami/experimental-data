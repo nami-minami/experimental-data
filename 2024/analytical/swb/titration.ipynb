{
 "cells": [
  {
   "cell_type": "code",
   "execution_count": 4,
   "id": "d700ca04-b97f-4119-8e8c-6978d560f575",
   "metadata": {
    "colab": {
     "base_uri": "https://localhost:8080/"
    },
    "id": "d700ca04-b97f-4119-8e8c-6978d560f575",
    "outputId": "af286f52-3db1-4b92-cb3c-3edf4e98feaf"
   },
   "outputs": [
    {
     "name": "stdout",
     "output_type": "stream",
     "text": [
      "キノリノールのモル数[mol] = [0.00026929 0.00026428 0.00026296 0.00027374 0.00026586 0.0002632 ]\n",
      "アルミニウムのモル数[mol] = [8.97626833e-05 8.80935833e-05 8.76526667e-05 9.12473500e-05\n",
      " 8.86212500e-05 8.77334167e-05]\n",
      "アルミニウムの回収率[%] = [4.78521477 4.69623568 4.67273058 4.86436179 4.72436539 4.67703533]\n"
     ]
    }
   ],
   "source": [
    "import numpy as np\n",
    "\n",
    "class Titration:\n",
    "    def __init__(self, KBrO3_factor, Na2S2O3_factor, Al_init):\n",
    "        self.KBrO3_factor = KBrO3_factor\n",
    "        self.Na2S2O3_factor = Na2S2O3_factor\n",
    "        self.Al_init = Al_init\n",
    "\n",
    "    def compute_recovery_rate(self, KBrO3_tit, Na2S2O3_tit):\n",
    "        Br2_mol = KBrO3_tit*1e-3 * 0.1 * self.KBrO3_factor * 0.5\n",
    "        S2O3_mol = Na2S2O3_tit*1e-3 * 0.1 * self.Na2S2O3_factor * 0.5\n",
    "        oxine_mol = (Br2_mol - S2O3_mol) * 0.5\n",
    "        Al_mol = oxine_mol/3\n",
    "        Al_recovery_rate = Al_mol*26.98*10*100/self.Al_init\n",
    "        return oxine_mol, Al_mol, Al_recovery_rate\n",
    "        \n",
    "\n",
    "Br = np.array([11.52, 11.13, 11.47, 13.14, 11.49, 11.66])  #臭素酸カリウム滴定量\n",
    "S203 = np.array([0.77, 0.59, 0.96, 2.13, 0.87, 1.13])    #チオ硫酸ナトリウム滴定量\n",
    "\n",
    "titration = Titration(1.0064, 1.0678, 0.5061)  #臭素酸カリウムファクター, チオ硫酸ナトリウムファクター, カリミョウバン精秤量\n",
    "oxine_mol, Al_mol, Al_recovery_rate = titration.compute_recovery_rate(Br, S203)\n",
    "\n",
    "print(\"キノリノールのモル数[mol] =\", oxine_mol)\n",
    "print(\"アルミニウムのモル数[mol] =\", Al_mol)\n",
    "print(\"アルミニウムの回収率[%] =\", Al_recovery_rate)"
   ]
  },
  {
   "cell_type": "code",
   "execution_count": 14,
   "id": "P9_ZJLQPNiuV",
   "metadata": {
    "id": "P9_ZJLQPNiuV"
   },
   "outputs": [
    {
     "data": {
      "text/plain": [
       "array([0.00181807, 0.00185894, 0.00181196, 0.00181315])"
      ]
     },
     "execution_count": 14,
     "metadata": {},
     "output_type": "execute_result"
    }
   ],
   "source": [
    "import numpy as np \n",
    "\n",
    "Al_mol*26.98"
   ]
  },
  {
   "cell_type": "code",
   "execution_count": 19,
   "id": "67fbf710-c749-48c2-91a5-ebe072a7c9c7",
   "metadata": {},
   "outputs": [
    {
     "data": {
      "text/plain": [
       "0.05167241165626113"
      ]
     },
     "execution_count": 19,
     "metadata": {},
     "output_type": "execute_result"
    }
   ],
   "source": [
    "0.4945/(474.388-18.016*12) * 26.98"
   ]
  },
  {
   "cell_type": "code",
   "execution_count": null,
   "id": "76c8f22b-1762-4cbe-b966-cd6f8301d37b",
   "metadata": {},
   "outputs": [],
   "source": []
  }
 ],
 "metadata": {
  "colab": {
   "provenance": []
  },
  "kernelspec": {
   "display_name": "Python 3 (ipykernel)",
   "language": "python",
   "name": "python3"
  },
  "language_info": {
   "codemirror_mode": {
    "name": "ipython",
    "version": 3
   },
   "file_extension": ".py",
   "mimetype": "text/x-python",
   "name": "python",
   "nbconvert_exporter": "python",
   "pygments_lexer": "ipython3",
   "version": "3.13.0"
  }
 },
 "nbformat": 4,
 "nbformat_minor": 5
}
