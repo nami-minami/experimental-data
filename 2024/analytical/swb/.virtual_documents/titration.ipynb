import numpy as np

class Titration:
    def __init__(self, KBrO3_factor, Na2S2O3_factor, Al_init):
        self.KBrO3_factor = KBrO3_factor
        self.Na2S2O3_factor = Na2S2O3_factor
        self.Al_init = Al_init

    def compute_recovery_rate(self, KBrO3_tit, Na2S2O3_tit):
        Br2_mol = KBrO3_tit*1e-3 * 0.1 * self.KBrO3_factor * 0.5
        S2O3_mol = Na2S2O3_tit*1e-3 * 0.1 * self.Na2S2O3_factor * 0.5
        oxine_mol = (Br2_mol - S2O3_mol) * 0.5
        Al_mol = oxine_mol/3
        Al_recovery_rate = Al_mol*26.98*10*100/self.Al_init
        return oxine_mol, Al_mol, Al_recovery_rate
        

Br = np.array([11.52, 11.13, 11.47, 13.14, 11.49, 11.66])  #臭素酸カリウム滴定量
S203 = np.array([0.77, 0.59, 0.96, 2.13, 0.87, 1.13])    #チオ硫酸ナトリウム滴定量

titration = Titration(1.0064, 1.0678, 0.5061)  #臭素酸カリウムファクター, チオ硫酸ナトリウムファクター, カリミョウバン精秤量
oxine_mol, Al_mol, Al_recovery_rate = titration.compute_recovery_rate(Br, S203)

print("キノリノールのモル数[mol] =", oxine_mol)
print("アルミニウムのモル数[mol] =", Al_mol)
print("アルミニウムの回収率[%] =", Al_recovery_rate)


import numpy as np 

Al_mol*26.98


0.4945/(474.388-18.016*12) * 26.98



