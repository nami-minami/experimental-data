{
 "cells": [
  {
   "cell_type": "code",
   "execution_count": 23,
   "id": "d700ca04-b97f-4119-8e8c-6978d560f575",
   "metadata": {
    "colab": {
     "base_uri": "https://localhost:8080/"
    },
    "id": "d700ca04-b97f-4119-8e8c-6978d560f575",
    "outputId": "af286f52-3db1-4b92-cb3c-3edf4e98feaf"
   },
   "outputs": [
    {
     "name": "stdout",
     "output_type": "stream",
     "text": [
      "キノリノールのモル数[mol] = [0.00020216 0.0002067  0.00020148 0.00020161]\n",
      "アルミニウムのモル数[mol] = [6.73856833e-05 6.89007917e-05 6.71595583e-05 6.72033750e-05]\n",
      "アルミニウムの回収率[%] = [3.67657378 3.75923834 3.66423637 3.66662701]\n"
     ]
    }
   ],
   "source": [
    "import numpy as np\n",
    "\n",
    "class Titration:\n",
    "    def __init__(self, KBrO3_factor, Na2S2O3_factor, Al_init):\n",
    "        self.KBrO3_factor = KBrO3_factor\n",
    "        self.Na2S2O3_factor = Na2S2O3_factor\n",
    "        self.Al_init = Al_init\n",
    "\n",
    "    def compute_recovery_rate(self, KBrO3_tit, Na2S2O3_tit):\n",
    "        Br2_mol = KBrO3_tit*1e-3 * 0.1 * self.KBrO3_factor * 0.5\n",
    "        S2O3_mol = Na2S2O3_tit*1e-3 * 0.1 * self.Na2S2O3_factor * 0.5\n",
    "        oxine_mol = (Br2_mol - S2O3_mol) * 0.5\n",
    "        Al_mol = oxine_mol/3\n",
    "        Al_recovery_rate = Al_mol*26.98*10*100/self.Al_init\n",
    "        return oxine_mol, Al_mol, Al_recovery_rate\n",
    "\n",
    "\n",
    "Br = np.array([9.30, 8.71, 8.91, 9.29])  #臭素酸カリウム滴定量\n",
    "S203 = np.array([0.94, 0.30, 0.64, 0.95])    #チオ硫酸ナトリウム滴定量\n",
    "\n",
    "titration = Titration(0.9905, 1.1972, 0.4945)  #臭素酸カリウムファクター, チオ硫酸ナトリウムファクター, カリミョウバン精秤量\n",
    "oxine_mol, Al_mol, Al_recovery_rate = titration.compute_recovery_rate(Br, S203)\n",
    "\n",
    "print(\"キノリノールのモル数[mol] =\", oxine_mol)\n",
    "print(\"アルミニウムのモル数[mol] =\", Al_mol)\n",
    "print(\"アルミニウムの回収率[%] =\", Al_recovery_rate)"
   ]
  }
 ],
 "metadata": {
  "colab": {
   "provenance": []
  },
  "kernelspec": {
   "display_name": "Python 3 (ipykernel)",
   "language": "python",
   "name": "python3"
  },
  "language_info": {
   "codemirror_mode": {
    "name": "ipython",
    "version": 3
   },
   "file_extension": ".py",
   "mimetype": "text/x-python",
   "name": "python",
   "nbconvert_exporter": "python",
   "pygments_lexer": "ipython3",
   "version": "3.13.1"
  }
 },
 "nbformat": 4,
 "nbformat_minor": 5
}
