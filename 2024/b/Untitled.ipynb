{
 "cells": [
  {
   "cell_type": "code",
   "execution_count": 10,
   "id": "8572d6b3-8356-4684-9f33-d14a62b7ee81",
   "metadata": {},
   "outputs": [
    {
     "data": {
      "text/plain": [
       "(array([[10843.83835445]]), array([0.00145223]))"
      ]
     },
     "execution_count": 10,
     "metadata": {},
     "output_type": "execute_result"
    }
   ],
   "source": [
    "import numpy as np\n",
    "import matplotlib.pyplot as plt\n",
    "from sklearn import linear_model\n",
    "\n",
    "5e-4 * np.array([0,2,5,7,10]) * 1e-3 / 50e-3\n",
    "\n",
    "X = np.array([0,2,5,7,10]).reshape(-1,1) * 1e-5 * 1.007\n",
    "Y = np.array([0, 0.222, 0.548, 0.764, 1.094]).reshape(-1,1)\n",
    "model = linear_model.LinearRegression().fit(X,Y)\n",
    "model.coef_, model.intercept_"
   ]
  },
  {
   "cell_type": "code",
   "execution_count": null,
   "id": "ce04928f-525a-4859-b792-24dcfc184c09",
   "metadata": {},
   "outputs": [],
   "source": []
  }
 ],
 "metadata": {
  "kernelspec": {
   "display_name": "Python 3 (ipykernel)",
   "language": "python",
   "name": "python3"
  },
  "language_info": {
   "codemirror_mode": {
    "name": "ipython",
    "version": 3
   },
   "file_extension": ".py",
   "mimetype": "text/x-python",
   "name": "python",
   "nbconvert_exporter": "python",
   "pygments_lexer": "ipython3",
   "version": "3.12.6"
  }
 },
 "nbformat": 4,
 "nbformat_minor": 5
}
