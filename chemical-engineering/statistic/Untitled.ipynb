{
 "cells": [
  {
   "cell_type": "code",
   "execution_count": 2,
   "id": "1e2d6051-37be-49c1-99b5-300971306a7e",
   "metadata": {},
   "outputs": [
    {
     "data": {
      "text/html": [
       "<div>\n",
       "<style scoped>\n",
       "    .dataframe tbody tr th:only-of-type {\n",
       "        vertical-align: middle;\n",
       "    }\n",
       "\n",
       "    .dataframe tbody tr th {\n",
       "        vertical-align: top;\n",
       "    }\n",
       "\n",
       "    .dataframe thead th {\n",
       "        text-align: right;\n",
       "    }\n",
       "</style>\n",
       "<table border=\"1\" class=\"dataframe\">\n",
       "  <thead>\n",
       "    <tr style=\"text-align: right;\">\n",
       "      <th></th>\n",
       "      <th>times</th>\n",
       "      <th>result</th>\n",
       "    </tr>\n",
       "  </thead>\n",
       "  <tbody>\n",
       "    <tr>\n",
       "      <th>0</th>\n",
       "      <td>1</td>\n",
       "      <td>53</td>\n",
       "    </tr>\n",
       "    <tr>\n",
       "      <th>1</th>\n",
       "      <td>2</td>\n",
       "      <td>56</td>\n",
       "    </tr>\n",
       "    <tr>\n",
       "      <th>2</th>\n",
       "      <td>3</td>\n",
       "      <td>56</td>\n",
       "    </tr>\n",
       "    <tr>\n",
       "      <th>3</th>\n",
       "      <td>4</td>\n",
       "      <td>59</td>\n",
       "    </tr>\n",
       "    <tr>\n",
       "      <th>4</th>\n",
       "      <td>5</td>\n",
       "      <td>58</td>\n",
       "    </tr>\n",
       "    <tr>\n",
       "      <th>...</th>\n",
       "      <td>...</td>\n",
       "      <td>...</td>\n",
       "    </tr>\n",
       "    <tr>\n",
       "      <th>395</th>\n",
       "      <td>396</td>\n",
       "      <td>58</td>\n",
       "    </tr>\n",
       "    <tr>\n",
       "      <th>396</th>\n",
       "      <td>397</td>\n",
       "      <td>54</td>\n",
       "    </tr>\n",
       "    <tr>\n",
       "      <th>397</th>\n",
       "      <td>398</td>\n",
       "      <td>55</td>\n",
       "    </tr>\n",
       "    <tr>\n",
       "      <th>398</th>\n",
       "      <td>399</td>\n",
       "      <td>63</td>\n",
       "    </tr>\n",
       "    <tr>\n",
       "      <th>399</th>\n",
       "      <td>400</td>\n",
       "      <td>51</td>\n",
       "    </tr>\n",
       "  </tbody>\n",
       "</table>\n",
       "<p>400 rows × 2 columns</p>\n",
       "</div>"
      ],
      "text/plain": [
       "     times  result\n",
       "0        1      53\n",
       "1        2      56\n",
       "2        3      56\n",
       "3        4      59\n",
       "4        5      58\n",
       "..     ...     ...\n",
       "395    396      58\n",
       "396    397      54\n",
       "397    398      55\n",
       "398    399      63\n",
       "399    400      51\n",
       "\n",
       "[400 rows x 2 columns]"
      ]
     },
     "execution_count": 2,
     "metadata": {},
     "output_type": "execute_result"
    }
   ],
   "source": [
    "import pandas as pd\n",
    "import numpy as np\n",
    "import matplotlib.pyplot as plt \n",
    "\n",
    "df = pd.read_excel(\"st1.xlsm\",usecols=(0,1))\n",
    "df"
   ]
  },
  {
   "cell_type": "code",
   "execution_count": 3,
   "id": "66f7c4db-aac1-456a-a3a6-2250f22fea40",
   "metadata": {},
   "outputs": [
    {
     "data": {
      "text/plain": [
       "count    400.000000\n",
       "mean      55.090000\n",
       "std        3.445516\n",
       "min       46.000000\n",
       "25%       53.000000\n",
       "50%       55.000000\n",
       "75%       57.000000\n",
       "max       64.000000\n",
       "Name: result, dtype: float64"
      ]
     },
     "execution_count": 3,
     "metadata": {},
     "output_type": "execute_result"
    }
   ],
   "source": [
    "x = df['result'].values.astype(np.float32)\n",
    "df['result'].describe()"
   ]
  },
  {
   "cell_type": "code",
   "execution_count": 5,
   "id": "50ff17a7-0f00-4734-993e-b79da675051b",
   "metadata": {},
   "outputs": [
    {
     "data": {
      "image/png": "[encoded data removed]",
      "text/plain": [
       "<Figure size 640x480 with 1 Axes>"
      ]
     },
     "metadata": {},
     "output_type": "display_data"
    }
   ],
   "source": [
    "y_gauss = (2*np.pi*3.45**2)**-0.5 * np.exp(-(x-55.09)**2 / (2*3.44**2))\n",
    "\n",
    "plt.hist(df['result'],bins=18,density=True)\n",
    "plt.scatter(x,y_gauss,c=\"red\")\n",
    "plt.savefig(\"graph.pdf\")"
   ]
  },
  {
   "cell_type": "markdown",
   "id": "759832d7-8f6a-4d99-870c-be0396e438de",
   "metadata": {
    "jp-MarkdownHeadingCollapsed": true
   },
   "source": [
    "# 勾配降下法"
   ]
  },
  {
   "cell_type": "code",
   "execution_count": null,
   "id": "55c21015-3a65-4cbb-b4be-53ab4770d387",
   "metadata": {},
   "outputs": [],
   "source": []
  },
  {
   "cell_type": "code",
   "execution_count": 261,
   "id": "f666f4ab-7a96-42d2-9622-ad500901aa40",
   "metadata": {},
   "outputs": [],
   "source": [
    "import numpy as np \n",
    "import pandas as pd \n",
    "import matplotlib.pyplot as plt \n",
    "import IPython.display\n",
    "\n",
    "# def gaussian(x,mu,sigma): \n",
    "#     return (2*np.pi*sigma**2)**-0.5 * np.exp(-(x-mu)**2 / (2*sigma**2))\n",
    "\n",
    "def gaussian(x,theta): \n",
    "    mu = theta[0]\n",
    "    sigma = theta[1]\n",
    "    return (2*np.pi*sigma**2)**-0.5 * np.exp(-(x-mu)**2 / (2*sigma**2))\n",
    "\n",
    "def L_func(x,theta): \n",
    "    return np.sum(-np.log(gaussian(x,theta)))\n",
    "\n",
    "# def dv_L_func(x,theta,dv): \n",
    "#     y = L_func(x,theta)\n",
    "#     a = (L_func(x,theta))\n",
    "\n",
    "\n",
    "def dev(func,x,theta,dv): \n",
    "    y = func(x)\n",
    "    a = (func(x+dv) - y)/dv\n",
    "    b = y - a*x\n",
    "    ref_x = -b/a\n",
    "    return ref_x, func(ref_x)\n",
    "\n",
    "def diff_L_func(x,theta,diff_index,dv):\n",
    "    y = L_func(x,theta)\n",
    "    diff_theta_0 = theta.copy()\n",
    "    diff_theta_0[diff_index] += dv\n",
    "    diff_theta_1 = theta.copy()\n",
    "    diff_theta_1[diff_index] -= dv\n",
    "    \n",
    "    a = (L_func(x,diff_theta_0)-L_func(x,diff_theta_1)) / (2*dv)\n",
    "    b = y - a*theta[diff_index]\n",
    "    # ref_theta = -b/a\n",
    "    # return ref_theta, L_func(x,ref_theta)\n",
    "    return b\n",
    "    \n",
    "    \n",
    "    \n",
    "\n",
    "\n",
    "\n",
    "# def gaussian_likelihood(x,theta): \n",
    "#     return -len(x)/2*np.log(2*np.pi*theta[0]**2) - 1/theta[0]*np.sum(x-theta[1])"
   ]
  },
  {
   "cell_type": "code",
   "execution_count": 263,
   "id": "ffbfa770-c3fc-4b2e-9d32-6485527e774d",
   "metadata": {},
   "outputs": [
    {
     "data": {
      "text/plain": [
       "1.79443359375"
      ]
     },
     "execution_count": 263,
     "metadata": {},
     "output_type": "execute_result"
    }
   ],
   "source": [
    "\n",
    "dv = 1e-2\n",
    "theta = np.array([100,100],dtype=np.float64)\n",
    "diff_theta = theta.copy()\n",
    "diff_theta[0] += dv\n",
    "L_func(x,theta)==L_func(x,diff_theta)\n",
    "theta,diff_theta\n",
    "# diff_L_func(x,theta,0,dv)\n",
    "(L_func(x,theta)-L_func(x,diff_theta))/dv\n",
    "diff_L_func(x,theta,0,dv)"
   ]
  },
  {
   "cell_type": "code",
   "execution_count": 264,
   "id": "95f08fbd-487b-4cac-a71b-17b95986722c",
   "metadata": {},
   "outputs": [
    {
     "ename": "ValueError",
     "evalue": "x and y must be the same size",
     "output_type": "error",
     "traceback": [
      "\u001b[0;31m---------------------------------------------------------------------------\u001b[0m",
      "\u001b[0;31mValueError\u001b[0m                                Traceback (most recent call last)",
      "Cell \u001b[0;32mIn[264], line 8\u001b[0m\n\u001b[1;32m      4\u001b[0m y \u001b[38;5;241m=\u001b[39m L_func(x,theta)\n\u001b[1;32m      5\u001b[0m y_gauss \u001b[38;5;241m=\u001b[39m (\u001b[38;5;241m2\u001b[39m\u001b[38;5;241m*\u001b[39mnp\u001b[38;5;241m.\u001b[39mpi\u001b[38;5;241m*\u001b[39m\u001b[38;5;241m3.45\u001b[39m\u001b[38;5;241m*\u001b[39m\u001b[38;5;241m*\u001b[39m\u001b[38;5;241m2\u001b[39m)\u001b[38;5;241m*\u001b[39m\u001b[38;5;241m*\u001b[39m\u001b[38;5;241m-\u001b[39m\u001b[38;5;241m0.5\u001b[39m \u001b[38;5;241m*\u001b[39m np\u001b[38;5;241m.\u001b[39mexp(\u001b[38;5;241m-\u001b[39m(x\u001b[38;5;241m-\u001b[39m\u001b[38;5;241m55.09\u001b[39m)\u001b[38;5;241m*\u001b[39m\u001b[38;5;241m*\u001b[39m\u001b[38;5;241m2\u001b[39m \u001b[38;5;241m/\u001b[39m (\u001b[38;5;241m2\u001b[39m\u001b[38;5;241m*\u001b[39m\u001b[38;5;241m3.44\u001b[39m\u001b[38;5;241m*\u001b[39m\u001b[38;5;241m*\u001b[39m\u001b[38;5;241m2\u001b[39m))\n\u001b[0;32m----> 8\u001b[0m \u001b[43mplt\u001b[49m\u001b[38;5;241;43m.\u001b[39;49m\u001b[43mscatter\u001b[49m\u001b[43m(\u001b[49m\u001b[43mX\u001b[49m\u001b[43m,\u001b[49m\u001b[43mY\u001b[49m\u001b[43m)\u001b[49m\n\u001b[1;32m      9\u001b[0m plt\u001b[38;5;241m.\u001b[39mscatter(x,y)\n\u001b[1;32m     10\u001b[0m \u001b[38;5;66;03m# plt.scatter(x,y_gauss)\u001b[39;00m\n",
      "File \u001b[0;32m/usr/local/lib/python3.11/site-packages/matplotlib/pyplot.py:3684\u001b[0m, in \u001b[0;36mscatter\u001b[0;34m(x, y, s, c, marker, cmap, norm, vmin, vmax, alpha, linewidths, edgecolors, plotnonfinite, data, **kwargs)\u001b[0m\n\u001b[1;32m   3665\u001b[0m \u001b[38;5;129m@_copy_docstring_and_deprecators\u001b[39m(Axes\u001b[38;5;241m.\u001b[39mscatter)\n\u001b[1;32m   3666\u001b[0m \u001b[38;5;28;01mdef\u001b[39;00m \u001b[38;5;21mscatter\u001b[39m(\n\u001b[1;32m   3667\u001b[0m     x: \u001b[38;5;28mfloat\u001b[39m \u001b[38;5;241m|\u001b[39m ArrayLike,\n\u001b[0;32m   (...)\u001b[0m\n\u001b[1;32m   3682\u001b[0m     \u001b[38;5;241m*\u001b[39m\u001b[38;5;241m*\u001b[39mkwargs,\n\u001b[1;32m   3683\u001b[0m ) \u001b[38;5;241m-\u001b[39m\u001b[38;5;241m>\u001b[39m PathCollection:\n\u001b[0;32m-> 3684\u001b[0m     __ret \u001b[38;5;241m=\u001b[39m \u001b[43mgca\u001b[49m\u001b[43m(\u001b[49m\u001b[43m)\u001b[49m\u001b[38;5;241;43m.\u001b[39;49m\u001b[43mscatter\u001b[49m\u001b[43m(\u001b[49m\n\u001b[1;32m   3685\u001b[0m \u001b[43m        \u001b[49m\u001b[43mx\u001b[49m\u001b[43m,\u001b[49m\n\u001b[1;32m   3686\u001b[0m \u001b[43m        \u001b[49m\u001b[43my\u001b[49m\u001b[43m,\u001b[49m\n\u001b[1;32m   3687\u001b[0m \u001b[43m        \u001b[49m\u001b[43ms\u001b[49m\u001b[38;5;241;43m=\u001b[39;49m\u001b[43ms\u001b[49m\u001b[43m,\u001b[49m\n\u001b[1;32m   3688\u001b[0m \u001b[43m        \u001b[49m\u001b[43mc\u001b[49m\u001b[38;5;241;43m=\u001b[39;49m\u001b[43mc\u001b[49m\u001b[43m,\u001b[49m\n\u001b[1;32m   3689\u001b[0m \u001b[43m        \u001b[49m\u001b[43mmarker\u001b[49m\u001b[38;5;241;43m=\u001b[39;49m\u001b[43mmarker\u001b[49m\u001b[43m,\u001b[49m\n\u001b[1;32m   3690\u001b[0m \u001b[43m        \u001b[49m\u001b[43mcmap\u001b[49m\u001b[38;5;241;43m=\u001b[39;49m\u001b[43mcmap\u001b[49m\u001b[43m,\u001b[49m\n\u001b[1;32m   3691\u001b[0m \u001b[43m        \u001b[49m\u001b[43mnorm\u001b[49m\u001b[38;5;241;43m=\u001b[39;49m\u001b[43mnorm\u001b[49m\u001b[43m,\u001b[49m\n\u001b[1;32m   3692\u001b[0m \u001b[43m        \u001b[49m\u001b[43mvmin\u001b[49m\u001b[38;5;241;43m=\u001b[39;49m\u001b[43mvmin\u001b[49m\u001b[43m,\u001b[49m\n\u001b[1;32m   3693\u001b[0m \u001b[43m        \u001b[49m\u001b[43mvmax\u001b[49m\u001b[38;5;241;43m=\u001b[39;49m\u001b[43mvmax\u001b[49m\u001b[43m,\u001b[49m\n\u001b[1;32m   3694\u001b[0m \u001b[43m        \u001b[49m\u001b[43malpha\u001b[49m\u001b[38;5;241;43m=\u001b[39;49m\u001b[43malpha\u001b[49m\u001b[43m,\u001b[49m\n\u001b[1;32m   3695\u001b[0m \u001b[43m        \u001b[49m\u001b[43mlinewidths\u001b[49m\u001b[38;5;241;43m=\u001b[39;49m\u001b[43mlinewidths\u001b[49m\u001b[43m,\u001b[49m\n\u001b[1;32m   3696\u001b[0m \u001b[43m        \u001b[49m\u001b[43medgecolors\u001b[49m\u001b[38;5;241;43m=\u001b[39;49m\u001b[43medgecolors\u001b[49m\u001b[43m,\u001b[49m\n\u001b[1;32m   3697\u001b[0m \u001b[43m        \u001b[49m\u001b[43mplotnonfinite\u001b[49m\u001b[38;5;241;43m=\u001b[39;49m\u001b[43mplotnonfinite\u001b[49m\u001b[43m,\u001b[49m\n\u001b[1;32m   3698\u001b[0m \u001b[43m        \u001b[49m\u001b[38;5;241;43m*\u001b[39;49m\u001b[38;5;241;43m*\u001b[39;49m\u001b[43m(\u001b[49m\u001b[43m{\u001b[49m\u001b[38;5;124;43m\"\u001b[39;49m\u001b[38;5;124;43mdata\u001b[39;49m\u001b[38;5;124;43m\"\u001b[39;49m\u001b[43m:\u001b[49m\u001b[43m \u001b[49m\u001b[43mdata\u001b[49m\u001b[43m}\u001b[49m\u001b[43m \u001b[49m\u001b[38;5;28;43;01mif\u001b[39;49;00m\u001b[43m \u001b[49m\u001b[43mdata\u001b[49m\u001b[43m \u001b[49m\u001b[38;5;129;43;01mis\u001b[39;49;00m\u001b[43m \u001b[49m\u001b[38;5;129;43;01mnot\u001b[39;49;00m\u001b[43m \u001b[49m\u001b[38;5;28;43;01mNone\u001b[39;49;00m\u001b[43m \u001b[49m\u001b[38;5;28;43;01melse\u001b[39;49;00m\u001b[43m \u001b[49m\u001b[43m{\u001b[49m\u001b[43m}\u001b[49m\u001b[43m)\u001b[49m\u001b[43m,\u001b[49m\n\u001b[1;32m   3699\u001b[0m \u001b[43m        \u001b[49m\u001b[38;5;241;43m*\u001b[39;49m\u001b[38;5;241;43m*\u001b[39;49m\u001b[43mkwargs\u001b[49m\u001b[43m,\u001b[49m\n\u001b[1;32m   3700\u001b[0m \u001b[43m    \u001b[49m\u001b[43m)\u001b[49m\n\u001b[1;32m   3701\u001b[0m     sci(__ret)\n\u001b[1;32m   3702\u001b[0m     \u001b[38;5;28;01mreturn\u001b[39;00m __ret\n",
      "File \u001b[0;32m/usr/local/lib/python3.11/site-packages/matplotlib/__init__.py:1465\u001b[0m, in \u001b[0;36m_preprocess_data.<locals>.inner\u001b[0;34m(ax, data, *args, **kwargs)\u001b[0m\n\u001b[1;32m   1462\u001b[0m \u001b[38;5;129m@functools\u001b[39m\u001b[38;5;241m.\u001b[39mwraps(func)\n\u001b[1;32m   1463\u001b[0m \u001b[38;5;28;01mdef\u001b[39;00m \u001b[38;5;21minner\u001b[39m(ax, \u001b[38;5;241m*\u001b[39margs, data\u001b[38;5;241m=\u001b[39m\u001b[38;5;28;01mNone\u001b[39;00m, \u001b[38;5;241m*\u001b[39m\u001b[38;5;241m*\u001b[39mkwargs):\n\u001b[1;32m   1464\u001b[0m     \u001b[38;5;28;01mif\u001b[39;00m data \u001b[38;5;129;01mis\u001b[39;00m \u001b[38;5;28;01mNone\u001b[39;00m:\n\u001b[0;32m-> 1465\u001b[0m         \u001b[38;5;28;01mreturn\u001b[39;00m \u001b[43mfunc\u001b[49m\u001b[43m(\u001b[49m\u001b[43max\u001b[49m\u001b[43m,\u001b[49m\u001b[43m \u001b[49m\u001b[38;5;241;43m*\u001b[39;49m\u001b[38;5;28;43mmap\u001b[39;49m\u001b[43m(\u001b[49m\u001b[43msanitize_sequence\u001b[49m\u001b[43m,\u001b[49m\u001b[43m \u001b[49m\u001b[43margs\u001b[49m\u001b[43m)\u001b[49m\u001b[43m,\u001b[49m\u001b[43m \u001b[49m\u001b[38;5;241;43m*\u001b[39;49m\u001b[38;5;241;43m*\u001b[39;49m\u001b[43mkwargs\u001b[49m\u001b[43m)\u001b[49m\n\u001b[1;32m   1467\u001b[0m     bound \u001b[38;5;241m=\u001b[39m new_sig\u001b[38;5;241m.\u001b[39mbind(ax, \u001b[38;5;241m*\u001b[39margs, \u001b[38;5;241m*\u001b[39m\u001b[38;5;241m*\u001b[39mkwargs)\n\u001b[1;32m   1468\u001b[0m     auto_label \u001b[38;5;241m=\u001b[39m (bound\u001b[38;5;241m.\u001b[39marguments\u001b[38;5;241m.\u001b[39mget(label_namer)\n\u001b[1;32m   1469\u001b[0m                   \u001b[38;5;129;01mor\u001b[39;00m bound\u001b[38;5;241m.\u001b[39mkwargs\u001b[38;5;241m.\u001b[39mget(label_namer))\n",
      "File \u001b[0;32m/usr/local/lib/python3.11/site-packages/matplotlib/axes/_axes.py:4652\u001b[0m, in \u001b[0;36mAxes.scatter\u001b[0;34m(self, x, y, s, c, marker, cmap, norm, vmin, vmax, alpha, linewidths, edgecolors, plotnonfinite, **kwargs)\u001b[0m\n\u001b[1;32m   4650\u001b[0m y \u001b[38;5;241m=\u001b[39m np\u001b[38;5;241m.\u001b[39mma\u001b[38;5;241m.\u001b[39mravel(y)\n\u001b[1;32m   4651\u001b[0m \u001b[38;5;28;01mif\u001b[39;00m x\u001b[38;5;241m.\u001b[39msize \u001b[38;5;241m!=\u001b[39m y\u001b[38;5;241m.\u001b[39msize:\n\u001b[0;32m-> 4652\u001b[0m     \u001b[38;5;28;01mraise\u001b[39;00m \u001b[38;5;167;01mValueError\u001b[39;00m(\u001b[38;5;124m\"\u001b[39m\u001b[38;5;124mx and y must be the same size\u001b[39m\u001b[38;5;124m\"\u001b[39m)\n\u001b[1;32m   4654\u001b[0m \u001b[38;5;28;01mif\u001b[39;00m s \u001b[38;5;129;01mis\u001b[39;00m \u001b[38;5;28;01mNone\u001b[39;00m:\n\u001b[1;32m   4655\u001b[0m     s \u001b[38;5;241m=\u001b[39m (\u001b[38;5;241m20\u001b[39m \u001b[38;5;28;01mif\u001b[39;00m mpl\u001b[38;5;241m.\u001b[39mrcParams[\u001b[38;5;124m'\u001b[39m\u001b[38;5;124m_internal.classic_mode\u001b[39m\u001b[38;5;124m'\u001b[39m] \u001b[38;5;28;01melse\u001b[39;00m\n\u001b[1;32m   4656\u001b[0m          mpl\u001b[38;5;241m.\u001b[39mrcParams[\u001b[38;5;124m'\u001b[39m\u001b[38;5;124mlines.markersize\u001b[39m\u001b[38;5;124m'\u001b[39m] \u001b[38;5;241m*\u001b[39m\u001b[38;5;241m*\u001b[39m \u001b[38;5;241m2.0\u001b[39m)\n",
      "\u001b[0;31mValueError\u001b[0m: x and y must be the same size"
     ]
    },
    {
     "data": {
      "image/png": "[encoded data removed]",
      "text/plain": [
       "<Figure size 640x480 with 1 Axes>"
      ]
     },
     "metadata": {},
     "output_type": "display_data"
    }
   ],
   "source": [
    "theta = np.array([100,100])\n",
    "X = np.arange(-500,500,10)\n",
    "Y = L_func(X,theta)\n",
    "y = L_func(x,theta)\n",
    "# y_gauss = (2*np.pi*3.45**2)**-0.5 * np.exp(-(x-55.09)**2 / (2*3.44**2))\n",
    "\n",
    "\n",
    "plt.scatter(X,Y)\n",
    "plt.scatter(x,y)\n",
    "# plt.scatter(x,y_gauss)"
   ]
  },
  {
   "cell_type": "code",
   "execution_count": 188,
   "id": "7fef4c0e-abdd-45cc-86a7-0e4c6ce3995c",
   "metadata": {},
   "outputs": [
    {
     "data": {
      "text/plain": [
       "array([0., 0.])"
      ]
     },
     "execution_count": 188,
     "metadata": {},
     "output_type": "execute_result"
    }
   ],
   "source": [
    "df = pd.read_excel(\"st1.xlsm\",usecols=(0,1))"
   ]
  },
  {
   "cell_type": "code",
   "execution_count": 269,
   "id": "f6269b7a-4472-4132-80b4-fb0714f7e672",
   "metadata": {},
   "outputs": [
    {
     "data": {
      "text/plain": [
       "<Axes: >"
      ]
     },
     "execution_count": 269,
     "metadata": {},
     "output_type": "execute_result"
    },
    {
     "data": {
      "image/png": "[encoded data removed]",
      "text/plain": [
       "<Figure size 640x480 with 1 Axes>"
      ]
     },
     "metadata": {},
     "output_type": "display_data"
    }
   ],
   "source": [
    "dv = 1e-3\n",
    "theta = np.array([100,100])\n",
    "x = df['result'].values.astype(np.float32)\n",
    "gamma = 0.1\n",
    "diff_theta = np.zeros(2)\n",
    "\n",
    "# for i in range(10): \n",
    "#     for diff_index in range(len(theta)): \n",
    "#         _,diff_theta[diff_index] = diff_L_func(x,theta,diff_index,dv)\n",
    "        \n",
    "#     print(diff_theta)\n",
    "    \n",
    "    # theta = theta - gamma*func_E()\n",
    "df['result'].hist()"
   ]
  },
  {
   "cell_type": "markdown",
   "id": "a63a6523-4811-449e-95e6-5013a2ca5e23",
   "metadata": {
    "jp-MarkdownHeadingCollapsed": true
   },
   "source": [
    "# dev"
   ]
  },
  {
   "cell_type": "code",
   "execution_count": 122,
   "id": "09ce1781-90db-499c-b1c9-79d1261cf2f9",
   "metadata": {},
   "outputs": [
    {
     "name": "stdout",
     "output_type": "stream",
     "text": [
      "2.731835646585523e-09 1.7320508075688796\n"
     ]
    }
   ],
   "source": [
    "def fx(x): \n",
    "    return x**2-3\n",
    "\n",
    "x = 10\n",
    "dv = 1e-5\n",
    "\n",
    "for i in range(100):\n",
    "    y = fx(x)\n",
    "    a = (fx(x+dv) - fx(x))/dv\n",
    "    b = y - a*x\n",
    "    x = -b/a\n",
    "    if abs(y)<1e-5: \n",
    "        break\n",
    "print(abs(y),x)"
   ]
  },
  {
   "cell_type": "code",
   "execution_count": 126,
   "id": "103b51a1-05bd-4c9b-8f08-2ed26a1e910b",
   "metadata": {},
   "outputs": [
    {
     "name": "stdout",
     "output_type": "stream",
     "text": [
      "23.522524976047965\n",
      "5.215477505572366\n",
      "0.82774889435807\n",
      "0.044751963765242486\n",
      "0.00016456911568552002\n",
      "2.731835646585523e-09\n",
      "7.993605777301127e-15\n",
      "-4.440892098500626e-16\n",
      "4.440892098500626e-16\n",
      "4.440892098500626e-16\n"
     ]
    }
   ],
   "source": [
    "x = 10\n",
    "dv = 1e-5\n",
    "\n",
    "for i in range(10): \n",
    "    x,y = dev(fx, x, dv)\n",
    "    print(y)"
   ]
  },
  {
   "cell_type": "markdown",
   "id": "a6ed88f7-4b15-49cf-a6bc-82dca2a0b2bb",
   "metadata": {},
   "source": [
    "# test"
   ]
  },
  {
   "cell_type": "code",
   "execution_count": 49,
   "id": "bb67aad3-b36d-43ae-98fe-c2dd918943d3",
   "metadata": {},
   "outputs": [],
   "source": [
    "import numpy as np \n",
    "import pandas as pd \n",
    "import matplotlib.pyplot as plt \n",
    "import IPython.display\n",
    "\n",
    "\n",
    "def gaussian(x,theta): \n",
    "    mu = theta[0]\n",
    "    sigma = theta[1]\n",
    "    return (2*np.pi*sigma**2)**-0.5 * np.exp(-(x-mu)**2 / (2*sigma**2))\n",
    "\n",
    "def L_func(x,theta): \n",
    "    return -np.sum(np.sum(gaussian(x,theta)))\n",
    "\n",
    "def diff_L_func(x,theta,diff_index,dv):\n",
    "    y = L_func(x,theta)\n",
    "    diff_theta_0 = theta.copy()\n",
    "    diff_theta_0[diff_index] += dv\n",
    "    diff_theta_1 = theta.copy()\n",
    "    diff_theta_1[diff_index] -= dv\n",
    "    \n",
    "    a = (L_func(x,diff_theta_0)-L_func(x,diff_theta_1)) / (2*dv)\n",
    "    return a"
   ]
  },
  {
   "cell_type": "code",
   "execution_count": 6,
   "id": "9fb1391e-ae51-4a42-9699-876036333eb5",
   "metadata": {},
   "outputs": [
    {
     "data": {
      "text/plain": [
       "<matplotlib.collections.PathCollection at 0x11bc58210>"
      ]
     },
     "execution_count": 6,
     "metadata": {},
     "output_type": "execute_result"
    },
    {
     "data": {
      "image/png": "[encoded data removed]",
      "text/plain": [
       "<Figure size 640x480 with 1 Axes>"
      ]
     },
     "metadata": {},
     "output_type": "display_data"
    }
   ],
   "source": [
    "data = pd.read_excel(\"st1.xlsm\",usecols=(0,1),dtype='int32')\n",
    "freq = data.groupby('result',as_index=False).count()\n",
    "x = freq.result.values.astype(np.int32)\n",
    "y = freq.times.values.astype(np.int32)\n",
    "y = y/np.sum(y)\n",
    "\n",
    "plt.bar(x,y)\n",
    "plt.scatter(x,gaussian(x,(55,3,5)))"
   ]
  },
  {
   "cell_type": "code",
   "execution_count": 51,
   "id": "2088254d-e328-4116-a251-1e670a302394",
   "metadata": {},
   "outputs": [
    {
     "name": "stdout",
     "output_type": "stream",
     "text": [
      "[ -8.1539154  -35.42423248] 0\n",
      "[-0.52748182  0.51444895] 100\n",
      "[-2.76507706e-06  2.60769184e-07] 200\n",
      "[-2.76507706e-06  2.60769184e-07] 300\n",
      "[-2.76507706e-06  2.60769184e-07] 400\n",
      "[-2.76507706e-06  2.60769184e-07] 500\n",
      "[-2.76507706e-06  2.60769184e-07] 600\n",
      "[-2.76507706e-06  2.60769184e-07] 700\n",
      "[-2.76507706e-06  2.60769184e-07] 800\n",
      "[-2.76507706e-06  2.60769184e-07] 900\n"
     ]
    },
    {
     "data": {
      "text/plain": [
       "array([54.999996,  5.477226], dtype=float32)"
      ]
     },
     "execution_count": 51,
     "metadata": {},
     "output_type": "execute_result"
    },
    {
     "data": {
      "image/png": "[encoded data removed]",
      "text/plain": [
       "<Figure size 640x480 with 1 Axes>"
      ]
     },
     "metadata": {},
     "output_type": "display_data"
    }
   ],
   "source": [
    "import numpy as np \n",
    "import matplotlib.pyplot as plt\n",
    "\n",
    "\n",
    "theta = np.array([10,10],dtype=np.float32)\n",
    "dv = 1e-5\n",
    "epoc = 1000\n",
    "diff_theta = np.zeros(2)\n",
    "gamma = 0.5\n",
    "\n",
    "for epoc in range(epoc): \n",
    "    for diff_index in range(len(theta)): \n",
    "        diff_theta[diff_index] = diff_L_func(x,theta,diff_index,dv)\n",
    "        \n",
    "    theta -= gamma*diff_theta\n",
    "\n",
    "    if epoc % 100 == 0: \n",
    "        print(diff_theta,epoc)\n",
    "        plt.scatter(x,gaussian(x,theta))\n",
    "\n",
    "    # if np.all(abs(diff_theta)<1e-4):\n",
    "    #     break\n",
    "\n",
    "    # plt.scatter(epoc,theta[1])\n",
    "theta"
   ]
  },
  {
   "cell_type": "code",
   "execution_count": 386,
   "id": "67182199-1112-43ec-bc7e-542a5f48b6fa",
   "metadata": {},
   "outputs": [
    {
     "data": {
      "text/plain": [
       "<matplotlib.collections.PathCollection at 0x127773550>"
      ]
     },
     "execution_count": 386,
     "metadata": {},
     "output_type": "execute_result"
    },
    {
     "data": {
      "image/png": "[encoded data removed]",
      "text/plain": [
       "<Figure size 640x480 with 1 Axes>"
      ]
     },
     "metadata": {},
     "output_type": "display_data"
    }
   ],
   "source": [
    "pred_y = gaussian(x,theta)\n",
    "\n",
    "plt.bar(x,y)\n",
    "plt.scatter(x,pred_y)"
   ]
  },
  {
   "cell_type": "code",
   "execution_count": 8,
   "id": "1cea8462-51b6-4042-9037-b40bc4e8214d",
   "metadata": {},
   "outputs": [
    {
     "data": {
      "text/plain": [
       "array([ True,  True])"
      ]
     },
     "execution_count": 8,
     "metadata": {},
     "output_type": "execute_result"
    }
   ],
   "source": [
    "np.array([1,1]) < 10"
   ]
  },
  {
   "cell_type": "code",
   "execution_count": 21,
   "id": "d4eb2941-6538-4643-a5a4-89e0a299c154",
   "metadata": {},
   "outputs": [
    {
     "data": {
      "text/plain": [
       "False"
      ]
     },
     "execution_count": 21,
     "metadata": {},
     "output_type": "execute_result"
    }
   ],
   "source": [
    "(diff_theta==1).all()"
   ]
  },
  {
   "cell_type": "code",
   "execution_count": 24,
   "id": "11ca6a6b-0ae9-41f6-8f53-0cd1fa0ad2f6",
   "metadata": {},
   "outputs": [
    {
     "data": {
      "text/plain": [
       "array([ 8.1539154 , 35.42423248])"
      ]
     },
     "execution_count": 24,
     "metadata": {},
     "output_type": "execute_result"
    }
   ],
   "source": [
    "abs(diff_theta)"
   ]
  },
  {
   "cell_type": "code",
   "execution_count": 39,
   "id": "fc265def-41e2-4966-940a-7756eb469238",
   "metadata": {},
   "outputs": [
    {
     "data": {
      "text/plain": [
       "count    400.000000\n",
       "mean      55.090000\n",
       "std        3.445516\n",
       "min       46.000000\n",
       "25%       53.000000\n",
       "50%       55.000000\n",
       "75%       57.000000\n",
       "max       64.000000\n",
       "Name: result, dtype: float64"
      ]
     },
     "execution_count": 39,
     "metadata": {},
     "output_type": "execute_result"
    }
   ],
   "source": [
    "data['result'].describe()"
   ]
  },
  {
   "cell_type": "code",
   "execution_count": null,
   "id": "7f432394-b029-4c16-8610-72662b4a7fc4",
   "metadata": {},
   "outputs": [],
   "source": []
  }
 ],
 "metadata": {
  "kernelspec": {
   "display_name": "Python 3 (ipykernel)",
   "language": "python",
   "name": "python3"
  },
  "language_info": {
   "codemirror_mode": {
    "name": "ipython",
    "version": 3
   },
   "file_extension": ".py",
   "mimetype": "text/x-python",
   "name": "python",
   "nbconvert_exporter": "python",
   "pygments_lexer": "ipython3",
   "version": "3.12.1"
  }
 },
 "nbformat": 4,
 "nbformat_minor": 5
}
