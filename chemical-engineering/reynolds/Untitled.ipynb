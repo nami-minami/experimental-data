{
 "cells": [
  {
   "cell_type": "code",
   "execution_count": 9,
   "id": "81f5f77b-8e6a-45cf-8b93-812a403488b9",
   "metadata": {},
   "outputs": [
    {
     "name": "stdout",
     "output_type": "stream",
     "text": [
      "\\begin{tabular}{lrrrll}\n",
      "\\toprule\n",
      " & 流量[m3/s] & 流速 U [m/s] & Re & 理論 & 観測 \\\\\n",
      "面積流量[L/h] &  &  &  &  &  \\\\\n",
      "\\midrule\n",
      "50 & 0.000014 & 0.078595 & 980.195150 & 層流 & 層流 \\\\\n",
      "70 & 0.000019 & 0.110033 & 1372.273210 & 層流 & 層流 \\\\\n",
      "90 & 0.000025 & 0.141471 & 1764.351270 & 層流 & 層流 \\\\\n",
      "110 & 0.000031 & 0.172909 & 2156.429330 & 層流 & 層流 \\\\\n",
      "130 & 0.000036 & 0.204347 & 2548.507391 & 過渡範囲 & 過渡範囲 \\\\\n",
      "150 & 0.000042 & 0.235785 & 2940.585451 & 過渡範囲 & 過渡範囲 \\\\\n",
      "170 & 0.000047 & 0.267223 & 3332.663511 & 過渡範囲 & 過渡範囲 \\\\\n",
      "190 & 0.000053 & 0.298661 & 3724.741571 & 過渡範囲 & 過渡範囲 \\\\\n",
      "210 & 0.000058 & 0.330099 & 4116.819631 & 乱流 & 過渡範囲 \\\\\n",
      "230 & 0.000064 & 0.361537 & 4508.897691 & 乱流 & 乱流 \\\\\n",
      "250 & 0.000069 & 0.392975 & 4900.975751 & 乱流 & 乱流 \\\\\n",
      "300 & 0.000083 & 0.471570 & 5881.170901 & 乱流 & 乱流 \\\\\n",
      "350 & 0.000097 & 0.550165 & 6861.366052 & 乱流 & 乱流 \\\\\n",
      "400 & 0.000111 & 0.628760 & 7841.561202 & 乱流 & 乱流 \\\\\n",
      "\\bottomrule\n",
      "\\end{tabular}\n",
      "\n"
     ]
    }
   ],
   "source": [
    "import pandas as pd \n",
    "\n",
    "df = pd.read_excel(\"管内流動.xlsx\", sheet_name=None,usecols=(4,5,6,7,8,9),index_col=0)\n",
    "print(df['流量上昇'].to_latex())"
   ]
  },
  {
   "cell_type": "code",
   "execution_count": null,
   "id": "e782298d-7b0e-4cd4-b0af-b3281db26745",
   "metadata": {},
   "outputs": [],
   "source": []
  }
 ],
 "metadata": {
  "kernelspec": {
   "display_name": "Python 3 (ipykernel)",
   "language": "python",
   "name": "python3"
  },
  "language_info": {
   "codemirror_mode": {
    "name": "ipython",
    "version": 3
   },
   "file_extension": ".py",
   "mimetype": "text/x-python",
   "name": "python",
   "nbconvert_exporter": "python",
   "pygments_lexer": "ipython3",
   "version": "3.12.1"
  }
 },
 "nbformat": 4,
 "nbformat_minor": 5
}
