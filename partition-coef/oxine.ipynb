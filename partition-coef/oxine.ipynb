{
 "cells": [
  {
   "cell_type": "code",
   "execution_count": 2,
   "id": "2998d0b2-5fcd-4512-85a3-25d5d486f688",
   "metadata": {},
   "outputs": [],
   "source": [
    "import numpy as np \n",
    "import matplotlib.pyplot as plt \n",
    "import pandas as pd\n",
    "import japanize_matplotlib\n",
    "from sklearn.linear_model import LinearRegression\n",
    "\n",
    "def partition(pH, abs, v_aq, v_o):\n",
    "    return np.log10(v_aq/v_o * 1/(abs[-1]/abs[0:-1]-1))"
   ]
  },
  {
   "cell_type": "code",
   "execution_count": 13,
   "id": "ae2e2334-b649-4f8a-82c2-9686045c6180",
   "metadata": {},
   "outputs": [
    {
     "name": "stdout",
     "output_type": "stream",
     "text": [
      "coeficient: [[0.96655045]]\n",
      "score: 0.938992010492878\n"
     ]
    },
    {
     "data": {
      "image/png": "[encoded data removed]",
      "text/plain": [
       "<Figure size 640x480 with 1 Axes>"
      ]
     },
     "metadata": {},
     "output_type": "display_data"
    }
   ],
   "source": [
    "import numpy as np \n",
    "import matplotlib.pyplot as plt\n",
    "from sklearn.linear_model import LinearRegression\n",
    "\n",
    "blanc0 = -0.003\n",
    "pH0 = np.array([3.06, 3.97, 5.04, 5.95, 6.95])\n",
    "abs0 = np.array([0.961, 1.108, 1.120, 1.124, 1.124, 1.126]) - blanc0 #水の吸光度が最後\n",
    "logD0 = partition(pH0, abs0, 20,20)\n",
    "\n",
    "blanc1 = 0.002\n",
    "pH1 = np.array([5.80, 6.78, 7.74, 8.43]) \n",
    "abs1 = np.array([1.073, 1.070, 1.067, 1.057, 1.087]) - blanc1\n",
    "logD1 = partition(pH1, abs1, 20, 5)\n",
    "\n",
    "pH2 = np.array([2.34])\n",
    "abs2 = np.array([0.317, 1.030])\n",
    "logD2 = partition(pH2, abs2, 20, 20)\n",
    "\n",
    "logD = [logD2] + [logD0]\n",
    "logD = np.hstack([logD2, logD0])[0:4].reshape(-1,1)\n",
    "pH = np.hstack([pH2, pH0])[0:4].reshape(-1,1)\n",
    "model = LinearRegression()\n",
    "model.fit(pH, logD)\n",
    "logD_pred = model.predict(pH)\n",
    "\n",
    "pH_r = np.arange(0,14.1,0.1)\n",
    "H_r = 10**-pH_r\n",
    "logD_r = np.log10(720/(H_r/9e-6 + 1 + 2e-10/H_r))\n",
    "\n",
    "\n",
    "\n",
    "fig, ax = plt.subplots()\n",
    "ax.set_xlabel(\"pH\")\n",
    "ax.set_xlim(1.5, 9.5)\n",
    "ax.set_ylabel(\"logD\")\n",
    "    \n",
    "ax.scatter(pH0, logD0, s=7)\n",
    "ax.scatter(pH1, logD1, s=7)\n",
    "ax.scatter(pH2, logD2, s=7)\n",
    "ax.scatter(pH_r, logD_r, s=2)\n",
    "ax.plot(pH, logD_pred)\n",
    "\n",
    "print(\"coefficient:\", model.coef_)\n",
    "print(\"score:\", model.score(pH, logD))"
   ]
  },
  {
   "cell_type": "code",
   "execution_count": 78,
   "id": "d1a54410-2840-4002-8238-598bb413f6f0",
   "metadata": {},
   "outputs": [
    {
     "data": {
      "text/plain": [
       "array([2, 3, 4, 5, 6])"
      ]
     },
     "execution_count": 78,
     "metadata": {},
     "output_type": "execute_result"
    }
   ],
   "source": [
    "np.arange(2,7)"
   ]
  },
  {
   "cell_type": "code",
   "execution_count": null,
   "id": "6b14b3a1-3b36-4d9b-b974-851d3d5c4eb4",
   "metadata": {},
   "outputs": [],
   "source": []
  }
 ],
 "metadata": {
  "kernelspec": {
   "display_name": "Python 3 (ipykernel)",
   "language": "python",
   "name": "python3"
  },
  "language_info": {
   "codemirror_mode": {
    "name": "ipython",
    "version": 3
   },
   "file_extension": ".py",
   "mimetype": "text/x-python",
   "name": "python",
   "nbconvert_exporter": "python",
   "pygments_lexer": "ipython3",
   "version": "3.11.5"
  }
 },
 "nbformat": 4,
 "nbformat_minor": 5
}
