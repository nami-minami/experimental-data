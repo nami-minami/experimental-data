{
 "cells": [
  {
   "cell_type": "code",
   "execution_count": 17,
   "id": "1fc0b50f-29e5-49aa-a22a-5cbe7c0e9f59",
   "metadata": {},
   "outputs": [
    {
     "data": {
      "text/plain": [
       "5.531538526666667"
      ]
     },
     "execution_count": 17,
     "metadata": {},
     "output_type": "execute_result"
    }
   ],
   "source": [
    "import numpy as np \n",
    "\n",
    "def func(Br, S2O3): \n",
    "    Br_factor = 1.0021\n",
    "    S2O3_factor = 1.118\n",
    "    Br2_mol = Br*1e-3 * 0.1 * Br_factor * 0.5\n",
    "    S2O3_mol = S2O3*1e-3 * 0.1 * S2O3_factor * 0.5\n",
    "    Q_mol = (Br2_mol - S2O3_mol) * 0.5\n",
    "    Al_mol = Q_mol/3\n",
    "    return Q_mol, Al_mol"
   ]
  },
  {
   "cell_type": "code",
   "execution_count": 18,
   "id": "a1255253-fdb0-4df9-9ec4-8f8ca3b63dd8",
   "metadata": {},
   "outputs": [
    {
     "name": "stdout",
     "output_type": "stream",
     "text": [
      "[0.00030748 0.00030754 0.00030723] [0.00010249 0.00010251 0.00010241]\n"
     ]
    },
    {
     "data": {
      "text/plain": [
       "array([5.5304962 , 5.53153853, 5.52599009])"
      ]
     },
     "execution_count": 18,
     "metadata": {},
     "output_type": "execute_result"
    }
   ],
   "source": [
    "Br = np.array([12.82, 12.80, 12.81])\n",
    "S203= np.array([0.49, 0.47, 0.49])\n",
    "\n",
    "Q, Al = func(Br, S203)\n",
    "\n",
    "print(Q, Al)\n",
    "Al*26.98*10*100/0.5"
   ]
  },
  {
   "cell_type": "code",
   "execution_count": null,
   "id": "05ef07a5-0d6d-4f6e-bfe6-7cca5ac9bd4b",
   "metadata": {},
   "outputs": [],
   "source": []
  }
 ],
 "metadata": {
  "kernelspec": {
   "display_name": "Python 3 (ipykernel)",
   "language": "python",
   "name": "python3"
  },
  "language_info": {
   "codemirror_mode": {
    "name": "ipython",
    "version": 3
   },
   "file_extension": ".py",
   "mimetype": "text/x-python",
   "name": "python",
   "nbconvert_exporter": "python",
   "pygments_lexer": "ipython3",
   "version": "3.11.5"
  }
 },
 "nbformat": 4,
 "nbformat_minor": 5
}
