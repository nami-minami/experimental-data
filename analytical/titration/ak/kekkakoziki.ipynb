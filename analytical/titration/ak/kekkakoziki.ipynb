{
  "cells": [
    {
      "cell_type": "code",
      "execution_count": 2,
      "id": "1fc0b50f-29e5-49aa-a22a-5cbe7c0e9f59",
      "metadata": {
        "id": "1fc0b50f-29e5-49aa-a22a-5cbe7c0e9f59",
        "outputId": "c11c4e6e-1393-4bfb-df24-7a2e2947a778",
        "colab": {
          "base_uri": "https://localhost:8080/"
        }
      },
      "outputs": [
        {
          "output_type": "stream",
          "name": "stdout",
          "text": [
            "キノリノールのモル数[mol] = [0.00027641 0.00027669 0.00027665]\n",
            "アルミニウムのモル数[mol] = [9.21351500e-05 9.22294333e-05 9.22180333e-05]\n",
            "アルミニウムの回収率[%] = [4.96069916 4.96577552 4.96516172]\n"
          ]
        }
      ],
      "source": [
        "import numpy as np\n",
        "\n",
        "class Titration:\n",
        "    def __init__(self, KBrO3_factor, Na2S2O3_factor, Al_init):\n",
        "        self.KBrO3_factor = KBrO3_factor\n",
        "        self.Na2S2O3_factor = Na2S2O3_factor\n",
        "        self.Al_init = Al_init\n",
        "\n",
        "    def compute_recovery_rate(self, KBrO3_tit, Na2S2O3_tit):\n",
        "        Br2_mol = KBrO3_tit*1e-3 * 0.1 * self.KBrO3_factor * 0.5\n",
        "        S2O3_mol = Na2S2O3_tit*1e-3 * 0.1 * self.Na2S2O3_factor * 0.5\n",
        "        oxine_mol = (Br2_mol - S2O3_mol) * 0.5\n",
        "        Al_mol = oxine_mol/3\n",
        "        Al_recovery_rate = Al_mol*26.98*10*100/self.Al_init\n",
        "        return oxine_mol, Al_mol, Al_recovery_rate\n",
        "\n",
        "\n",
        "Br = np.array([11.33, 11.32, 11.34])  #臭素酸カリウム滴定量\n",
        "S203= np.array([0.20, 0.18, 0.20])    #チオ硫酸ナトリウム滴定量\n",
        "\n",
        "titration = Titration(0.9946, 1.063, 0.5011)  #臭素酸カリウムファクター, チオ硫酸ナトリウムファクター, カリミョウバン精秤量\n",
        "oxine_mol, Al_mol, Al_recovery_rate = titration.compute_recovery_rate(Br, S203)\n",
        "\n",
        "print(\"キノリノールのモル数[mol] =\", oxine_mol)\n",
        "print(\"アルミニウムのモル数[mol] =\", Al_mol)\n",
        "print(\"アルミニウムの回収率[%] =\", Al_recovery_rate)"
      ]
    },
    {
      "cell_type": "code",
      "source": [],
      "metadata": {
        "id": "KbG98nsTwPpe"
      },
      "id": "KbG98nsTwPpe",
      "execution_count": null,
      "outputs": []
    }
  ],
  "metadata": {
    "kernelspec": {
      "display_name": "Python 3 (ipykernel)",
      "language": "python",
      "name": "python3"
    },
    "language_info": {
      "codemirror_mode": {
        "name": "ipython",
        "version": 3
      },
      "file_extension": ".py",
      "mimetype": "text/x-python",
      "name": "python",
      "nbconvert_exporter": "python",
      "pygments_lexer": "ipython3",
      "version": "3.11.5"
    },
    "colab": {
      "provenance": []
    }
  },
  "nbformat": 4,
  "nbformat_minor": 5
}