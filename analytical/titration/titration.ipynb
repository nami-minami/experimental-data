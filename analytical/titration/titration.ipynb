{
  "cells": [
    {
      "cell_type": "code",
      "execution_count": 1,
      "id": "d700ca04-b97f-4119-8e8c-6978d560f575",
      "metadata": {
        "id": "d700ca04-b97f-4119-8e8c-6978d560f575",
        "outputId": "af286f52-3db1-4b92-cb3c-3edf4e98feaf",
        "colab": {
          "base_uri": "https://localhost:8080/"
        }
      },
      "outputs": [
        {
          "output_type": "stream",
          "name": "stdout",
          "text": [
            "キノリノールのモル数[mol] = [0.00027968 0.00027723 0.00027707]\n",
            "アルミニウムのモル数[mol] = [9.32265083e-05 9.24095583e-05 9.23572583e-05]\n",
            "アルミニウムの回収率[%] = [5.02346953 4.97944854 4.97663038]\n"
          ]
        }
      ],
      "source": [
        "import numpy as np\n",
        "\n",
        "class Titration:\n",
        "    def __init__(self, KBrO3_factor, Na2S2O3_factor, Al_init):\n",
        "        self.KBrO3_factor = KBrO3_factor\n",
        "        self.Na2S2O3_factor = Na2S2O3_factor\n",
        "        self.Al_init = Al_init\n",
        "\n",
        "    def compute_recovery_rate(self, KBrO3_tit, Na2S2O3_tit):\n",
        "        Br2_mol = KBrO3_tit*1e-3 * 0.1 * self.KBrO3_factor * 0.5\n",
        "        S2O3_mol = Na2S2O3_tit*1e-3 * 0.1 * self.Na2S2O3_factor * 0.5\n",
        "        oxine_mol = (Br2_mol - S2O3_mol) * 0.5\n",
        "        Al_mol = oxine_mol/3\n",
        "        Al_recovery_rate = Al_mol*26.98*10*100/self.Al_init\n",
        "        return oxine_mol, Al_mol, Al_recovery_rate\n",
        "\n",
        "\n",
        "Br = np.array([11.61, 12.07, 12.51])  #臭素酸カリウム滴定量\n",
        "S203= np.array([0.40, 0.90, 1.3])    #チオ硫酸ナトリウム滴定量\n",
        "\n",
        "titration = Titration(1.0021, 1.118, 0.5007)  #臭素酸カリウムファクター, チオ硫酸ナトリウムファクター, カリミョウバン精秤量\n",
        "oxine_mol, Al_mol, Al_recovery_rate = titration.compute_recovery_rate(Br, S203)\n",
        "\n",
        "print(\"キノリノールのモル数[mol] =\", oxine_mol)\n",
        "print(\"アルミニウムのモル数[mol] =\", Al_mol)\n",
        "print(\"アルミニウムの回収率[%] =\", Al_recovery_rate)"
      ]
    },
    {
      "cell_type": "code",
      "source": [],
      "metadata": {
        "id": "P9_ZJLQPNiuV"
      },
      "id": "P9_ZJLQPNiuV",
      "execution_count": null,
      "outputs": []
    }
  ],
  "metadata": {
    "kernelspec": {
      "display_name": "Python 3 (ipykernel)",
      "language": "python",
      "name": "python3"
    },
    "language_info": {
      "codemirror_mode": {
        "name": "ipython",
        "version": 3
      },
      "file_extension": ".py",
      "mimetype": "text/x-python",
      "name": "python",
      "nbconvert_exporter": "python",
      "pygments_lexer": "ipython3",
      "version": "3.11.5"
    },
    "colab": {
      "provenance": []
    }
  },
  "nbformat": 4,
  "nbformat_minor": 5
}