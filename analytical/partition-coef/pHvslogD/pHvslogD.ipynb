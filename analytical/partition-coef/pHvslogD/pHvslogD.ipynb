{
 "cells": [
  {
   "cell_type": "code",
   "execution_count": 3,
   "id": "2abaa5ab-cdaf-49f5-bfd0-389ddfce5cd6",
   "metadata": {},
   "outputs": [
    {
     "data": {
      "image/png": "[encoded data removed]",
      "text/plain": [
       "<Figure size 640x480 with 1 Axes>"
      ]
     },
     "metadata": {},
     "output_type": "display_data"
    }
   ],
   "source": [
    "import numpy as np \n",
    "import pandas as pd\n",
    "import matplotlib.pyplot as plt \n",
    "\n",
    "\n",
    "pH = np.arange(0,14.1,0.1)\n",
    "H = 10**-pH\n",
    "D = 720/(H/9e-6 + 1 + 2e-10/H)\n",
    "df = pd.DataFrame()\n",
    "df[\"pH\"] = pH\n",
    "df[\"D\"] = D\n",
    "df.to_csv(\"pHvslogD.csv\")\n",
    "\n",
    "plt.xlabel(\"pH\")\n",
    "plt.xlim(0,14)\n",
    "plt.ylabel(\"logD\")\n",
    "plt.ylim(-2.4, 3)\n",
    "plt.tick_params(direction=\"in\")\n",
    "plt.scatter(pH, np.log10(D), s=5)\n",
    "plt.savefig(\"pHvslogD.jpg\")"
   ]
  },
  {
   "cell_type": "code",
   "execution_count": 5,
   "id": "7c821e6b-9a42-4b2b-b460-b5949c95065e",
   "metadata": {},
   "outputs": [
    {
     "data": {
      "text/plain": [
       "array([-2.1884289 , -2.08842991, -1.98843119, -1.88843279, -1.78843481,\n",
       "       -1.68843735, -1.58844055, -1.48844458, -1.38844966, -1.28845604,\n",
       "       -1.18846408, -1.0884742 , -0.98848694, -0.88850297, -0.78852316,\n",
       "       -0.68854858, -0.58858057, -0.48862085, -0.38867154, -0.28873536,\n",
       "       -0.18881568, -0.08891679,  0.01095597,  0.11079583,  0.21059431,\n",
       "        0.31034074,  0.41002173,  0.50962044,  0.60911579,  0.7084813 ,\n",
       "        0.80768384,  0.90668197,  1.00542398,  1.10384542,  1.20186625,\n",
       "        1.29938738,  1.39628666,  1.49241429,  1.58758786,  1.68158702,\n",
       "        1.77414844,  1.8649614 ,  1.95366526,  2.03984969,  2.12305942,\n",
       "        2.20280479,  2.27857953,  2.34988574,  2.41626529,  2.47733449,\n",
       "        2.53281729,  2.58257165,  2.62660382,  2.6650677 ,  2.69824933,\n",
       "        2.72653977,  2.75040148,  2.77033378,  2.78684193,  2.80041261,\n",
       "        2.81149684,  2.82049988,  2.82777692,  2.833633  ,  2.83832573,\n",
       "        2.84206964,  2.8450412 ,  2.84738387,  2.84921294,  2.85061976,\n",
       "        2.85167542,  2.85243371,  2.85293355,  2.85320067,  2.85324889,\n",
       "        2.8530807 ,  2.8526874 ,  2.8520487 ,  2.85113176,  2.8498897 ,\n",
       "        2.84825949,  2.84615928,  2.84348495,  2.84010622,  2.835862  ,\n",
       "        2.83055543,  2.82394874,  2.81575857,  2.80565236,  2.79324699,\n",
       "        2.77811104,  2.75977211,  2.73773065,  2.71148121,  2.6805407 ,\n",
       "        2.64448179,  2.60296759,  2.55578239,  2.50285289,  2.44425573,\n",
       "        2.38020963,  2.31105399,  2.23721796,  2.15918581,  2.07746359,\n",
       "        1.99255102,  1.90492047,  1.81500326,  1.72318254,  1.62979115,\n",
       "        1.53511318,  1.43938759,  1.34281311,  1.24555348,  1.14774262,\n",
       "        1.04948942,  0.95088198,  0.85199131,  0.75287451,  0.65357735,\n",
       "        0.55413644,  0.45458105,  0.35493455,  0.25521555,  0.15543888,\n",
       "        0.05561636, -0.04424261, -0.14413055, -0.24404152, -0.34397079,\n",
       "       -0.44391459, -0.54386995, -0.64383449, -0.74380632, -0.84378394,\n",
       "       -0.94376616, -1.04375204, -1.14374082, -1.24373191, -1.34372484,\n",
       "       -1.44371921])"
      ]
     },
     "execution_count": 5,
     "metadata": {},
     "output_type": "execute_result"
    }
   ],
   "source": [
    "np.log10(D)"
   ]
  },
  {
   "cell_type": "code",
   "execution_count": null,
   "id": "195fbb8b-df21-46ac-825a-abcd9ab189d5",
   "metadata": {},
   "outputs": [],
   "source": []
  }
 ],
 "metadata": {
  "kernelspec": {
   "display_name": "Python 3 (ipykernel)",
   "language": "python",
   "name": "python3"
  },
  "language_info": {
   "codemirror_mode": {
    "name": "ipython",
    "version": 3
   },
   "file_extension": ".py",
   "mimetype": "text/x-python",
   "name": "python",
   "nbconvert_exporter": "python",
   "pygments_lexer": "ipython3",
   "version": "3.12.1"
  }
 },
 "nbformat": 4,
 "nbformat_minor": 5
}
